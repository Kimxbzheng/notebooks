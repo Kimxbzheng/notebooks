{
  "nbformat": 4,
  "nbformat_minor": 0,
  "metadata": {
    "colab": {
      "name": "convolution_digit_recognizer.ipynb",
      "provenance": [],
      "collapsed_sections": [
        "tPtQoS_-HowJ"
      ],
      "include_colab_link": true
    },
    "kernelspec": {
      "name": "python3",
      "display_name": "Python 3"
    },
    "accelerator": "GPU",
    "language_info": {
      "name": "python"
    }
  },
  "cells": [
    {
      "cell_type": "markdown",
      "metadata": {
        "id": "view-in-github",
        "colab_type": "text"
      },
      "source": [
        "<a href=\"https://colab.research.google.com/github/Kimxbzheng/notebooks/blob/master/convolution_digit_recognizer.ipynb\" target=\"_parent\"><img src=\"https://colab.research.google.com/assets/colab-badge.svg\" alt=\"Open In Colab\"/></a>"
      ]
    },
    {
      "cell_type": "markdown",
      "metadata": {
        "id": "CUiFyiXKHovB"
      },
      "source": [
        "# Module 6: Convolutions by examples\n",
        "\n",
        "We'll build our first Convolutional Neural Network (CNN) from scratch."
      ]
    },
    {
      "cell_type": "markdown",
      "metadata": {
        "id": "7v7DN_UKHovE"
      },
      "source": [
        "## 1. Preparations"
      ]
    },
    {
      "cell_type": "code",
      "metadata": {
        "id": "eQmaHvupHovF"
      },
      "source": [
        "%matplotlib inline\n",
        "import math,sys,os,numpy as np\n",
        "from numpy.linalg import norm\n",
        "from matplotlib import pyplot as plt"
      ],
      "execution_count": 3,
      "outputs": []
    },
    {
      "cell_type": "code",
      "metadata": {
        "id": "lkRdumG1HovK"
      },
      "source": [
        "import torch\n",
        "import torchvision\n",
        "from torchvision import models,transforms,datasets"
      ],
      "execution_count": 4,
      "outputs": []
    },
    {
      "cell_type": "markdown",
      "metadata": {
        "id": "3JlQUj5IHovP"
      },
      "source": [
        "Download MNIST data on disk and convert it to pytorch compatible formating.\n",
        "\n",
        "```torchvision.datasets``` features support (download, formatting) for a collection of popular datasets. The list of available datasets in ```torchvision``` can be found [here](http://pytorch.org/docs/master/torchvision/datasets.html).\n",
        "\n",
        "Note that the download is performed only once. The function will always check first if the data is already on disk.\n"
      ]
    },
    {
      "cell_type": "code",
      "metadata": {
        "colab": {
          "base_uri": "https://localhost:8080/"
        },
        "id": "Bv9h8isvHovQ",
        "outputId": "88c98002-6877-4fbe-faa9-a40f7b8b3e36"
      },
      "source": [
        "root_dir = './data/MNIST/'\n",
        "torchvision.datasets.MNIST(root=root_dir,download=True)"
      ],
      "execution_count": 5,
      "outputs": [
        {
          "output_type": "execute_result",
          "data": {
            "text/plain": [
              "Dataset MNIST\n",
              "    Number of datapoints: 60000\n",
              "    Root location: ./data/MNIST/\n",
              "    Split: Train"
            ]
          },
          "metadata": {
            "tags": []
          },
          "execution_count": 5
        }
      ]
    },
    {
      "cell_type": "markdown",
      "metadata": {
        "id": "XW1c2YmiHovW"
      },
      "source": [
        "MNIST datasets consists of small images of hand-written digits. The images are grayscale and have size 28 x 28. There are 60,000 training images and 10,000 testing images."
      ]
    },
    {
      "cell_type": "code",
      "metadata": {
        "id": "p9MA5fqrHovZ"
      },
      "source": [
        "train_set = torchvision.datasets.MNIST(root=root_dir, train=True, download=True)"
      ],
      "execution_count": 6,
      "outputs": []
    },
    {
      "cell_type": "markdown",
      "metadata": {
        "id": "yaLXqwxaHovg"
      },
      "source": [
        "Define and initialize a data loader for the MNIST data already downloaded on disk."
      ]
    },
    {
      "cell_type": "code",
      "metadata": {
        "id": "uEyTgg0THovj"
      },
      "source": [
        "MNIST_dataset = torch.utils.data.DataLoader(train_set, batch_size=1, shuffle=True, num_workers=1)"
      ],
      "execution_count": 7,
      "outputs": []
    },
    {
      "cell_type": "markdown",
      "metadata": {
        "id": "f12CxE8XHovo"
      },
      "source": [
        "For the current notebook, we can format data as _numpy ndarrays_ which are easier to plot in matplotlib. The same operations can be easily performed on _pytorch Tensors_."
      ]
    },
    {
      "cell_type": "code",
      "metadata": {
        "id": "_UnuFlpWHovq"
      },
      "source": [
        "images = train_set.data.numpy().astype(np.float32)/255\n",
        "labels = train_set.targets.numpy()"
      ],
      "execution_count": 8,
      "outputs": []
    },
    {
      "cell_type": "code",
      "metadata": {
        "colab": {
          "base_uri": "https://localhost:8080/"
        },
        "id": "RpkGWiaqHovz",
        "outputId": "7ec62aaf-94c4-4d18-f92c-93e13f40200d"
      },
      "source": [
        "print(images.shape,labels.shape)"
      ],
      "execution_count": 9,
      "outputs": [
        {
          "output_type": "stream",
          "text": [
            "(60000, 28, 28) (60000,)\n"
          ],
          "name": "stdout"
        }
      ]
    },
    {
      "cell_type": "markdown",
      "metadata": {
        "id": "tPtQoS_-HowJ"
      },
      "source": [
        "## 2. Data visualization\n",
        "\n",
        "For convenience we define a few functions for formatting and plotting our image data"
      ]
    },
    {
      "cell_type": "code",
      "metadata": {
        "id": "F3lsBB7ZHowK"
      },
      "source": [
        "# plot multiple images\n",
        "def plots(ims, interp=False, titles=None):\n",
        "    ims=np.array(ims)\n",
        "    mn,mx=ims.min(),ims.max()\n",
        "    f = plt.figure(figsize=(12,24))\n",
        "    for i in range(len(ims)):\n",
        "        sp=f.add_subplot(1, len(ims), i+1)\n",
        "        if not titles is None: sp.set_title(titles[i], fontsize=18)\n",
        "        plt.imshow(ims[i], interpolation=None if interp else 'none', vmin=mn,vmax=mx)\n",
        "\n",
        "# plot a single image\n",
        "def plot(im, interp=False):\n",
        "    f = plt.figure(figsize=(3,6), frameon=True)\n",
        "    plt.imshow(im, interpolation=None if interp else 'none')\n",
        "\n",
        "plt.gray()\n",
        "plt.close()"
      ],
      "execution_count": 10,
      "outputs": []
    },
    {
      "cell_type": "code",
      "metadata": {
        "colab": {
          "base_uri": "https://localhost:8080/",
          "height": 0
        },
        "id": "vfxlah5eHowW",
        "outputId": "a4894e7e-0044-405a-9f20-cbfa6bc3ca47"
      },
      "source": [
        "plot(images[5000])"
      ],
      "execution_count": 11,
      "outputs": [
        {
          "output_type": "display_data",
          "data": {
            "image/png": "[encoded data removed]",
            "text/plain": [
              "<Figure size 216x432 with 1 Axes>"
            ]
          },
          "metadata": {
            "tags": [],
            "needs_background": "light"
          }
        }
      ]
    },
    {
      "cell_type": "code",
      "metadata": {
        "colab": {
          "base_uri": "https://localhost:8080/"
        },
        "id": "VY5890I1Howd",
        "outputId": "a0963cd7-c718-475c-f884-8e8073e58855"
      },
      "source": [
        "labels[5000]"
      ],
      "execution_count": 12,
      "outputs": [
        {
          "output_type": "execute_result",
          "data": {
            "text/plain": [
              "7"
            ]
          },
          "metadata": {
            "tags": []
          },
          "execution_count": 12
        }
      ]
    },
    {
      "cell_type": "code",
      "metadata": {
        "colab": {
          "base_uri": "https://localhost:8080/",
          "height": 0
        },
        "id": "OEWipA5iHown",
        "outputId": "5076cc28-e157-49c2-cfb8-abf91b2c7f18"
      },
      "source": [
        "plots(images[5000:5005], titles=labels[5000:5005])"
      ],
      "execution_count": 13,
      "outputs": [
        {
          "output_type": "display_data",
          "data": {
            "image/png": "[encoded data removed]",
            "text/plain": [
              "<Figure size 864x1728 with 5 Axes>"
            ]
          },
          "metadata": {
            "tags": [],
            "needs_background": "light"
          }
        }
      ]
    },
    {
      "cell_type": "markdown",
      "metadata": {
        "id": "jyc9VagHHo0S"
      },
      "source": [
        "## 3. Extract Number 8 and 1\n"
      ]
    },
    {
      "cell_type": "code",
      "metadata": {
        "id": "ogJld-3qJDpW"
      },
      "source": [
        "n=len(images)"
      ],
      "execution_count": 14,
      "outputs": []
    },
    {
      "cell_type": "code",
      "metadata": {
        "id": "Itlgssc9Ho0U"
      },
      "source": [
        "eights=[images[i] for i in range(n) if labels[i]==8]\n",
        "ones=[images[i] for i in range(n) if labels[i]==1]"
      ],
      "execution_count": 15,
      "outputs": []
    },
    {
      "cell_type": "markdown",
      "metadata": {
        "collapsed": true,
        "id": "Y_mBZHv9Ho3d"
      },
      "source": [
        "## 5. Practicals: improving classification with Convolutional Neural Net\n",
        "\n",
        "You will now build a neural net that will learn the weights of the filters.\n",
        "\n",
        "The first layer of your network will be a convolutional layer with $8$ filters of size $3\\times 3$. Then you will apply a Max Pooling layer to reduce the size of the image to $4\\times 4$ as we did above. This will produce a (once flatten) a vector of size $128 = 4\\times 4\\times 8$. From this vector, you need to predict if the corresponding input is a $1$ or a $8$. So you are back to a classification problem as seen in previous lesson.\n",
        "\n",
        "You need to fill the code written below to construct your CNN. You will need to look for documentation about [torch.nn](https://pytorch.org/docs/stable/nn.html) in the Pytorch doc."
      ]
    },
    {
      "cell_type": "code",
      "metadata": {
        "id": "F4ADp7YLHo3d"
      },
      "source": [
        "import torch.nn as nn\n",
        "import torch.nn.functional as F\n",
        "\n",
        "class classifier(nn.Module):\n",
        "    \n",
        "    def __init__(self):\n",
        "        super(classifier, self).__init__()\n",
        "        # fill the missing entries below\n",
        "        self.conv1 = nn.Conv2d(in_channels=1, out_channels=8, kernel_size=3, padding=1)\n",
        "        self.fc = nn.Linear(in_features=128, out_features=2)\n",
        "        \n",
        "    def forward(self,x):\n",
        "        # implement your network here, use F.max_pool2d, F.log_softmax and do not forget to flatten your vector\n",
        "        x = self.conv1(x)\n",
        "        x = F.max_pool2d(x, 7, stride=7)\n",
        "        x = torch.flatten(x,start_dim=1)\n",
        "        # print(x.size())\n",
        "        x = self.fc(x)\n",
        "        # print(x.size())\n",
        "        x = F.log_softmax(x,dim=1)\n",
        "        return x"
      ],
      "execution_count": 16,
      "outputs": []
    },
    {
      "cell_type": "code",
      "metadata": {
        "id": "5YinNMu0Ho3g"
      },
      "source": [
        "conv_class = classifier()"
      ],
      "execution_count": 17,
      "outputs": []
    },
    {
      "cell_type": "markdown",
      "metadata": {
        "id": "EapjD0UQHo3k"
      },
      "source": [
        "Your code should work fine on a batch of 3 images."
      ]
    },
    {
      "cell_type": "code",
      "metadata": {
        "id": "EtN49qaUHo3p"
      },
      "source": [
        "batch_3images = train_set.data[0:2].type(torch.FloatTensor).resize_(3, 1, 28, 28)\n",
        "#conv_class(batch_3images)"
      ],
      "execution_count": 18,
      "outputs": []
    },
    {
      "cell_type": "markdown",
      "metadata": {
        "id": "5s841xShHo3u"
      },
      "source": [
        "The following lines of code implement a data loader for the train set and the test set. No modification is needed."
      ]
    },
    {
      "cell_type": "code",
      "metadata": {
        "id": "iO_mo1CaHo3u"
      },
      "source": [
        "bs = 64\n",
        "\n",
        "l8 = np.array(0)\n",
        "eights_dataset = [[torch.from_numpy(e.astype(np.float32)).unsqueeze(0), torch.from_numpy(l8.astype(np.int64))] for e in eights]\n",
        "l1 = np.array(1)\n",
        "ones_dataset = [[torch.from_numpy(e.astype(np.float32)).unsqueeze(0), torch.from_numpy(l1.astype(np.int64))] for e in ones]\n",
        "train_dataset = eights_dataset[1000:] + ones_dataset[1000:]\n",
        "test_dataset = eights_dataset[:1000] + ones_dataset[:1000]\n",
        "\n",
        "train_loader = torch.utils.data.DataLoader(train_dataset,\n",
        "    batch_size=bs, shuffle=True)\n",
        "test_loader = torch.utils.data.DataLoader(test_dataset,\n",
        "    batch_size=bs, shuffle=True)"
      ],
      "execution_count": 19,
      "outputs": []
    },
    {
      "cell_type": "markdown",
      "metadata": {
        "id": "LVzpT2LvHo3x"
      },
      "source": [
        "You need now to code the training loop. Store the loss and accuracy for each epoch."
      ]
    },
    {
      "cell_type": "code",
      "metadata": {
        "id": "jsu7KRMIHo3y"
      },
      "source": [
        "def train(model,data_loader,loss_fn,optimizer,n_epochs=1):\n",
        "    model.train(True)\n",
        "    loss_train = np.zeros(n_epochs)\n",
        "    acc_train = np.zeros(n_epochs)\n",
        "    for epoch_num in range(n_epochs):\n",
        "        running_corrects = 0.0\n",
        "        running_loss = 0.0\n",
        "        size = 0\n",
        "\n",
        "        for data in data_loader:\n",
        "            inputs, labels = data\n",
        "            bs = labels.size(0)\n",
        "            #\n",
        "            # Your code here\n",
        "            outputs = model(inputs)\n",
        "            loss = loss_fn(outputs,labels)\n",
        "            optimizer.zero_grad()\n",
        "            loss.backward()\n",
        "            optimizer.step()\n",
        "            _,preds = torch.max(outputs.data,1)\n",
        "            running_loss += loss.data.item()\n",
        "            running_corrects += torch.sum(preds == labels.data)\n",
        "            #\n",
        "            size += bs\n",
        "        epoch_loss = running_loss / size\n",
        "        epoch_acc = running_corrects.item() / size\n",
        "        loss_train[epoch_num] = epoch_loss\n",
        "        acc_train[epoch_num] = epoch_acc\n",
        "        print('Train - Loss: {:.4f} Acc: {:.4f}'.format(epoch_loss, epoch_acc))\n",
        "    return loss_train, acc_train"
      ],
      "execution_count": 20,
      "outputs": []
    },
    {
      "cell_type": "code",
      "metadata": {
        "colab": {
          "base_uri": "https://localhost:8080/"
        },
        "id": "5Es_nmD2Ho34",
        "outputId": "8eda8545-26cc-47b9-8419-816d634ba193"
      },
      "source": [
        "conv_class = classifier()\n",
        "# choose the appropriate loss\n",
        "loss_fn = nn.NLLLoss()\n",
        "# your SGD optimizer\n",
        "learning_rate = 1e-3\n",
        "optimizer_cl = torch.optim.Adam(conv_class.parameters(), lr=learning_rate)\n",
        "# and train for 10 epochs\n",
        "l_t, a_t = train(conv_class,train_loader,loss_fn,optimizer_cl,n_epochs = 10)"
      ],
      "execution_count": 21,
      "outputs": [
        {
          "output_type": "stream",
          "text": [
            "Train - Loss: 0.0053 Acc: 0.9341\n",
            "Train - Loss: 0.0014 Acc: 0.9807\n",
            "Train - Loss: 0.0008 Acc: 0.9870\n",
            "Train - Loss: 0.0006 Acc: 0.9905\n",
            "Train - Loss: 0.0005 Acc: 0.9914\n",
            "Train - Loss: 0.0004 Acc: 0.9929\n",
            "Train - Loss: 0.0004 Acc: 0.9927\n",
            "Train - Loss: 0.0003 Acc: 0.9935\n",
            "Train - Loss: 0.0003 Acc: 0.9940\n",
            "Train - Loss: 0.0003 Acc: 0.9946\n"
          ],
          "name": "stdout"
        }
      ]
    },
    {
      "cell_type": "markdown",
      "metadata": {
        "id": "JPG9BbRKHo39"
      },
      "source": [
        "Let's learn for 10 more epochs"
      ]
    },
    {
      "cell_type": "code",
      "metadata": {
        "id": "80ABV57nHo3-",
        "colab": {
          "base_uri": "https://localhost:8080/"
        },
        "outputId": "927a23ac-f3e8-457c-8bbc-f9a3bc8224fa"
      },
      "source": [
        "l_t1, a_t1 = train(conv_class,train_loader,loss_fn,optimizer_cl,n_epochs = 10)"
      ],
      "execution_count": 22,
      "outputs": [
        {
          "output_type": "stream",
          "text": [
            "Train - Loss: 0.0003 Acc: 0.9945\n",
            "Train - Loss: 0.0003 Acc: 0.9951\n",
            "Train - Loss: 0.0002 Acc: 0.9953\n",
            "Train - Loss: 0.0002 Acc: 0.9955\n",
            "Train - Loss: 0.0002 Acc: 0.9954\n",
            "Train - Loss: 0.0002 Acc: 0.9957\n",
            "Train - Loss: 0.0002 Acc: 0.9956\n",
            "Train - Loss: 0.0002 Acc: 0.9957\n",
            "Train - Loss: 0.0002 Acc: 0.9958\n",
            "Train - Loss: 0.0002 Acc: 0.9962\n"
          ],
          "name": "stdout"
        }
      ]
    },
    {
      "cell_type": "markdown",
      "metadata": {
        "id": "P960YqN0Ho4J"
      },
      "source": [
        "Our network seems to learn but we now need to check its accuracy on the test set."
      ]
    },
    {
      "cell_type": "code",
      "metadata": {
        "id": "f_ttkHKAHo4K"
      },
      "source": [
        "def test(model,data_loader):\n",
        "    model.train(False)\n",
        "\n",
        "    running_corrects = 0.0\n",
        "    running_loss = 0.0\n",
        "    size = 0\n",
        "\n",
        "    for data in data_loader:\n",
        "        inputs, labels = data\n",
        "            \n",
        "        bs = labels.size(0)\n",
        "        #\n",
        "        # Your code here\n",
        "        outputs = model(inputs)\n",
        "        loss = loss_fn(outputs,labels)\n",
        "        _,preds = torch.max(outputs.data,1)\n",
        "        running_loss += loss.data.item()\n",
        "        running_corrects += torch.sum(preds == labels.data)\n",
        "        #\n",
        "        size += bs\n",
        "\n",
        "    print('Test - Loss: {:.4f} Acc: {:.4f}'.format(running_loss / size, running_corrects.item() / size))"
      ],
      "execution_count": 23,
      "outputs": []
    },
    {
      "cell_type": "code",
      "metadata": {
        "id": "nNB9RU20Ho4M",
        "colab": {
          "base_uri": "https://localhost:8080/"
        },
        "outputId": "b8a92cbf-819e-4d72-b1c9-99925252d4ee"
      },
      "source": [
        "test(conv_class,test_loader)"
      ],
      "execution_count": 24,
      "outputs": [
        {
          "output_type": "stream",
          "text": [
            "Test - Loss: 0.0003 Acc: 0.9920\n"
          ],
          "name": "stdout"
        }
      ]
    },
    {
      "cell_type": "markdown",
      "metadata": {
        "id": "VnXvEogNHo4S"
      },
      "source": [
        "How many parameters did your network learn?"
      ]
    },
    {
      "cell_type": "code",
      "metadata": {
        "id": "Qd5JSwZDHo4S",
        "colab": {
          "base_uri": "https://localhost:8080/"
        },
        "outputId": "3c2b3782-4fe9-4ceb-d35a-ad35736b5534"
      },
      "source": [
        "total = sum([param.nelement() for param in conv_class.parameters()])\n",
        "print(\"Number of parameter: %d\" % (total))"
      ],
      "execution_count": 30,
      "outputs": [
        {
          "output_type": "stream",
          "text": [
            "Number of parameter: 338\n"
          ],
          "name": "stdout"
        }
      ]
    },
    {
      "cell_type": "markdown",
      "metadata": {
        "id": "lfxpzNo8Ho4U"
      },
      "source": [
        "You can see them as follows:"
      ]
    },
    {
      "cell_type": "code",
      "metadata": {
        "id": "XkpdG05OHo4U",
        "colab": {
          "base_uri": "https://localhost:8080/"
        },
        "outputId": "7041a7b5-861a-4ad5-d1c1-cfefc87380d2"
      },
      "source": [
        "for m in conv_class.children():\n",
        "    print('weights :', m.weight.data)\n",
        "    print('bias :', m.bias.data)"
      ],
      "execution_count": 26,
      "outputs": [
        {
          "output_type": "stream",
          "text": [
            "weights : tensor([[[[ 0.7134,  0.1111,  0.0812],\n",
            "          [ 0.5917, -0.0801, -0.5183],\n",
            "          [ 0.5428,  0.4368, -0.6772]]],\n",
            "\n",
            "\n",
            "        [[[ 0.0493, -0.6220, -0.4873],\n",
            "          [ 0.4858,  0.1119,  0.2369],\n",
            "          [ 0.2469,  0.2249,  0.4706]]],\n",
            "\n",
            "\n",
            "        [[[-0.1370, -0.0583,  0.2649],\n",
            "          [ 0.3813, -0.0073,  0.3167],\n",
            "          [ 0.1070,  0.2996,  0.3644]]],\n",
            "\n",
            "\n",
            "        [[[ 0.0134,  0.5788,  0.6775],\n",
            "          [ 0.2746, -0.1420,  0.0448],\n",
            "          [-0.2684, -0.8237, -0.3475]]],\n",
            "\n",
            "\n",
            "        [[[ 0.5076,  0.2029,  0.2213],\n",
            "          [ 0.0939,  0.2734,  0.4915],\n",
            "          [-0.5535, -0.5878,  0.1393]]],\n",
            "\n",
            "\n",
            "        [[[ 0.4664, -0.2027, -0.5069],\n",
            "          [ 0.2982,  0.1038, -0.4230],\n",
            "          [ 0.1539,  0.5426,  0.1072]]],\n",
            "\n",
            "\n",
            "        [[[ 0.6871,  0.2553, -0.6347],\n",
            "          [ 0.2207, -0.1331, -0.0372],\n",
            "          [ 0.3129,  0.3671,  0.3068]]],\n",
            "\n",
            "\n",
            "        [[[-0.3790,  0.2524,  0.3151],\n",
            "          [ 0.2874,  0.1463,  0.3094],\n",
            "          [ 0.6129,  0.5549,  0.5595]]]])\n",
            "bias : tensor([-0.3554, -0.3724, -0.5471, -0.2262, -0.5738, -0.4961, -0.2978,  0.3421])\n",
            "weights : tensor([[ 9.9561e-02, -1.6858e-01, -2.6467e-01, -8.7857e-03,  2.8338e-01,\n",
            "          1.5592e-01, -3.4662e-01,  2.5937e-01,  1.6832e-01,  2.9048e-01,\n",
            "         -9.6475e-02,  6.6183e-02,  1.9772e-02,  9.2932e-02,  3.9658e-01,\n",
            "         -5.4776e-02,  1.0646e-01,  3.5331e-01,  2.4714e-01,  2.8323e-02,\n",
            "          2.3139e-01,  3.3160e-01,  7.6566e-01,  5.4651e-01, -4.5325e-02,\n",
            "          2.2172e-01,  1.4092e-01, -8.2396e-02, -2.5974e-01,  3.9555e-01,\n",
            "         -2.0923e-02,  7.4686e-02,  1.1677e-01,  3.7008e-02, -4.2061e-02,\n",
            "         -5.1169e-02,  2.8722e-01, -4.3637e-02, -9.0095e-02,  2.8038e-01,\n",
            "          1.8247e-01, -1.4629e-02, -9.1089e-02, -1.6439e-02,  4.3427e-02,\n",
            "          8.4626e-02,  1.7115e-01,  1.4762e-01, -3.1775e-02, -1.7219e-02,\n",
            "          7.6870e-01, -5.4304e-02,  2.5827e-02,  2.4400e-01,  6.7676e-01,\n",
            "          2.3446e-01,  1.4229e-01,  5.8433e-01,  5.7596e-01, -4.1962e-01,\n",
            "         -3.6701e-01, -2.7806e-02, -9.4407e-04, -3.5665e-01,  1.3083e-01,\n",
            "         -5.1399e-02,  6.1789e-01,  1.6145e-01,  1.7244e-01,  2.7545e-01,\n",
            "          6.5382e-01,  2.4884e-01,  2.8368e-01,  8.1332e-01,  6.7935e-01,\n",
            "          1.7454e-01,  4.0133e-02,  2.2867e-01, -2.0870e-02,  5.8859e-02,\n",
            "          1.8870e-01,  7.6200e-03,  2.3189e-01, -3.0114e-02,  2.1418e-01,\n",
            "          6.0408e-01,  1.4404e-01,  2.9115e-01,  6.9165e-02,  3.5595e-01,\n",
            "          1.8860e-01,  1.1569e-01,  1.5492e-01,  5.4836e-01,  6.2293e-02,\n",
            "          7.4671e-02,  2.5408e-02,  1.5239e-01, -1.4030e-01, -1.3870e-01,\n",
            "          4.5303e-02,  2.5825e-01, -1.0782e-01,  2.3436e-01, -8.7646e-02,\n",
            "          1.3412e-01, -2.1282e-01, -2.0299e-02, -1.2496e-01,  2.6864e-01,\n",
            "          1.3912e-01, -1.0442e-01, -1.9245e-01,  9.6457e-02, -1.4894e-01,\n",
            "         -1.9866e-01,  2.0045e-02, -2.0700e-01, -2.1957e-01,  1.5256e-01,\n",
            "         -1.5181e-01, -2.7659e-01, -1.1084e-01, -4.0867e-01, -2.0996e-01,\n",
            "         -1.5236e-01,  1.3295e-01, -2.0383e-01],\n",
            "        [-1.4352e-01,  1.1905e-01,  1.8117e-01,  2.0381e-02, -2.9299e-01,\n",
            "         -2.1392e-01,  3.8642e-01, -1.6803e-01, -1.5222e-01, -3.0336e-01,\n",
            "          1.9006e-01, -2.9563e-02,  7.5108e-02, -1.3748e-01, -3.0067e-01,\n",
            "         -5.1519e-03, -1.1822e-01, -3.2576e-01, -3.8701e-01,  3.4663e-02,\n",
            "         -2.3313e-01, -2.8884e-01, -7.4463e-01, -4.1969e-01,  8.1495e-02,\n",
            "         -1.3977e-01, -8.0824e-02,  7.1406e-02,  3.2449e-01, -4.2396e-01,\n",
            "          9.5764e-02,  4.4010e-02, -2.2409e-01, -1.8943e-01, -2.4383e-02,\n",
            "          1.7120e-02, -2.1569e-01,  1.4047e-01,  8.6336e-02, -2.7037e-01,\n",
            "         -2.2525e-01,  3.7831e-02,  1.2106e-01, -6.0898e-02, -8.1813e-02,\n",
            "         -2.1918e-02, -9.1321e-02, -8.8948e-02,  3.6555e-02,  4.5543e-02,\n",
            "         -6.4229e-01,  5.7325e-02,  4.0751e-02, -2.2669e-01, -6.5029e-01,\n",
            "         -2.3580e-01, -1.3995e-01, -5.1703e-01, -5.9436e-01,  5.1927e-01,\n",
            "          3.1471e-01, -5.4432e-02,  4.5477e-02,  3.8840e-01, -1.8394e-01,\n",
            "          1.2353e-01, -5.7289e-01, -2.5979e-01, -1.5783e-01, -3.1722e-01,\n",
            "         -7.6496e-01, -2.3972e-01, -3.0254e-01, -7.8782e-01, -7.3747e-01,\n",
            "         -1.5850e-01,  7.4564e-02, -2.6564e-01,  5.0304e-02, -7.3620e-02,\n",
            "         -1.7511e-01,  7.9274e-02, -1.9195e-01, -7.4621e-02, -2.6816e-01,\n",
            "         -5.3137e-01, -2.1007e-02, -2.9086e-01, -8.2482e-02, -3.7194e-01,\n",
            "         -2.5891e-01, -7.0145e-02, -2.2029e-01, -4.6262e-01,  5.0872e-02,\n",
            "         -1.4577e-01, -1.5387e-01, -7.1270e-02,  1.4798e-01,  1.4446e-01,\n",
            "         -1.5563e-01, -2.6229e-01, -3.9310e-02, -1.0456e-01,  5.1661e-02,\n",
            "         -2.2372e-01,  1.8252e-01, -7.1267e-02,  2.7295e-01, -2.6660e-01,\n",
            "         -6.4750e-02, -2.4779e-04,  1.8438e-01, -7.0185e-02,  2.0234e-01,\n",
            "          2.5514e-01, -9.1965e-03,  2.4875e-01,  1.7811e-01, -6.4324e-02,\n",
            "          5.8428e-02,  1.7676e-01,  1.3000e-01,  3.6169e-01,  1.9817e-01,\n",
            "          1.2096e-01, -1.7577e-01,  1.0937e-01]])\n",
            "bias : tensor([-0.1657,  0.1935])\n"
          ],
          "name": "stdout"
        }
      ]
    },
    {
      "cell_type": "code",
      "metadata": {
        "id": "rjXp3y5HHo4W"
      },
      "source": [
        "for m in conv_class.children():\n",
        "    T_w = m.weight.data.numpy()\n",
        "    T_b = m.bias.data.numpy()\n",
        "    break"
      ],
      "execution_count": 27,
      "outputs": []
    },
    {
      "cell_type": "code",
      "metadata": {
        "id": "S-g2xTm-Ho4X",
        "colab": {
          "base_uri": "https://localhost:8080/",
          "height": 119
        },
        "outputId": "734d6ff1-569b-42de-b472-a5e3830aebb6"
      },
      "source": [
        "plots([T_w[i][0] for i in range(8)])"
      ],
      "execution_count": 28,
      "outputs": [
        {
          "output_type": "display_data",
          "data": {
            "image/png": "[encoded data removed]",
            "text/plain": [
              "<Figure size 864x1728 with 8 Axes>"
            ]
          },
          "metadata": {
            "tags": [],
            "needs_background": "light"
          }
        }
      ]
    },
    {
      "cell_type": "code",
      "metadata": {
        "id": "PlvjNVKhHo4Z",
        "colab": {
          "base_uri": "https://localhost:8080/"
        },
        "outputId": "6b078778-dba7-42cd-f5eb-737cb872836f"
      },
      "source": [
        "T_b"
      ],
      "execution_count": 29,
      "outputs": [
        {
          "output_type": "execute_result",
          "data": {
            "text/plain": [
              "array([-0.35537785, -0.37237677, -0.5471257 , -0.22622085, -0.57380384,\n",
              "       -0.49607772, -0.29775128,  0.34214112], dtype=float32)"
            ]
          },
          "metadata": {
            "tags": []
          },
          "execution_count": 29
        }
      ]
    },
    {
      "cell_type": "code",
      "metadata": {
        "id": "XORiuyWzHo4a"
      },
      "source": [
        ""
      ],
      "execution_count": 29,
      "outputs": []
    }
  ]
}